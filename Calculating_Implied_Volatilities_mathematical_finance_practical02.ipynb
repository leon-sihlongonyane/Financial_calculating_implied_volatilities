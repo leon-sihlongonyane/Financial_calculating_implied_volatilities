{
  "cells": [
    {
      "cell_type": "code",
      "execution_count": null,
      "metadata": {
        "id": "QuZ0Gbe-FhqG"
      },
      "outputs": [],
      "source": [
        "from pylab import plt\n",
        "plt.style.use('seaborn')\n",
        "import matplotlib as mpl\n",
        "mpl.rcParams['font.family'] = 'serif'\n",
        "import datetime as dt\n",
        "import warnings; warnings.simplefilter('ignore')"
      ]
    },
    {
      "cell_type": "markdown",
      "metadata": {
        "id": "2nAlcxhGFhqL"
      },
      "source": [
        "## Implied Volatilities"
      ]
    },
    {
      "cell_type": "code",
      "source": [
        "def bsm_call_value(S0, K, T, r, sigma):\n",
        "    from math import log, sqrt, exp\n",
        "    from scipy import stats\n",
        "\n",
        "    S0 = float(S0)\n",
        "    d1 = (log(S0 / K) + (r + 0.5 * sigma ** 2) * T) / (sigma * sqrt(T))\n",
        "    d2 = (log(S0 / K) + (r - 0.5 * sigma ** 2) * T) / (sigma * sqrt(T))\n",
        "    value = (S0 * stats.norm.cdf(d1, 0.0, 1.0)\n",
        "            - K * exp(-r * T) * stats.norm.cdf(d2, 0.0, 1.0))\n",
        "      # stats.norm.cdf --> cumulative distribution function\n",
        "      #                    for normal distribution\n",
        "    return value\n"
      ],
      "metadata": {
        "id": "xCr6uDkSo0GS"
      },
      "execution_count": null,
      "outputs": []
    },
    {
      "cell_type": "code",
      "source": [
        "# Vega function and Imp Volatility\n",
        "\n",
        "def bsm_vega(S0, K, T, r, sigma):\n",
        "    from math import log, sqrt\n",
        "    from scipy import stats\n",
        "    S0 = float(S0)\n",
        "    d1 = (log(S0 / K) + (r + 0.5 * sigma ** 2) * T) / (sigma * sqrt(T))\n",
        "    vega = S0 * stats.norm.pdf(d1, 0.0, 1.0) * sqrt(T)\n",
        "    return vega\n",
        "# Implied Volatility\n",
        "def bsm_call_imp_vol(S0, K, T, r, C0, sigma_est, it=100):\n",
        "    for i in range(it):\n",
        "        sigma_est -= ((bsm_call_value(S0, K, T, r, sigma_est) - C0)\n",
        "                        / bsm_vega(S0, K, T, r, sigma_est))\n",
        "    return sigma_est"
      ],
      "metadata": {
        "id": "beD2f-VWwl0W"
      },
      "execution_count": null,
      "outputs": []
    },
    {
      "cell_type": "code",
      "execution_count": null,
      "metadata": {
        "uuid": "8e3ac03d-e5c1-4184-8494-5c02f5c1a897",
        "id": "A53B2k7kFhqO"
      },
      "outputs": [],
      "source": [
        "V0 = 17.6639"
      ]
    },
    {
      "cell_type": "code",
      "execution_count": null,
      "metadata": {
        "uuid": "3d727b16-4ff1-49fb-a54a-6e96568f54b0",
        "id": "O6st_-F_FhqQ"
      },
      "outputs": [],
      "source": [
        "r = 0.01"
      ]
    },
    {
      "cell_type": "code",
      "source": [
        "from google.colab import drive\n",
        "drive.mount('/content/drive')"
      ],
      "metadata": {
        "colab": {
          "base_uri": "https://localhost:8080/"
        },
        "id": "UPqW6YmmFzGY",
        "outputId": "dfda2277-4c6d-419a-eb37-a86ac040b80b"
      },
      "execution_count": null,
      "outputs": [
        {
          "output_type": "stream",
          "name": "stdout",
          "text": [
            "Mounted at /content/drive\n"
          ]
        }
      ]
    },
    {
      "cell_type": "code",
      "execution_count": null,
      "metadata": {
        "uuid": "009042d8-f384-482c-8b4b-eeac6312315e",
        "id": "b4Q1MAV9FhqR"
      },
      "outputs": [],
      "source": [
        "import pandas as pd\n",
        "path='/content/drive/MyDrive/Colab Notebooks/A_Hilpisch/py4fi-master/jupyter36/source'\n",
        "h5 = pd.HDFStore(path+'/vstoxx_data_31032014.h5', 'r')\n",
        "futures_data = h5['futures_data']  # VSTOXX futures data\n",
        "options_data = h5['options_data']  # VSTOXX call option data\n",
        "h5.close()"
      ]
    },
    {
      "cell_type": "code",
      "source": [
        "futures_data.head()"
      ],
      "metadata": {
        "colab": {
          "base_uri": "https://localhost:8080/",
          "height": 206
        },
        "id": "11tDzrOUKsTY",
        "outputId": "f06dc624-13ac-4510-fe14-e8c02ed18086"
      },
      "execution_count": null,
      "outputs": [
        {
          "output_type": "execute_result",
          "data": {
            "text/html": [
              "\n",
              "  <div id=\"df-8b11fb52-5fa4-4a5e-a5c1-dbde29f7ff9b\">\n",
              "    <div class=\"colab-df-container\">\n",
              "      <div>\n",
              "<style scoped>\n",
              "    .dataframe tbody tr th:only-of-type {\n",
              "        vertical-align: middle;\n",
              "    }\n",
              "\n",
              "    .dataframe tbody tr th {\n",
              "        vertical-align: top;\n",
              "    }\n",
              "\n",
              "    .dataframe thead th {\n",
              "        text-align: right;\n",
              "    }\n",
              "</style>\n",
              "<table border=\"1\" class=\"dataframe\">\n",
              "  <thead>\n",
              "    <tr style=\"text-align: right;\">\n",
              "      <th></th>\n",
              "      <th>DATE</th>\n",
              "      <th>EXP_YEAR</th>\n",
              "      <th>EXP_MONTH</th>\n",
              "      <th>PRICE</th>\n",
              "      <th>MATURITY</th>\n",
              "      <th>TTM</th>\n",
              "    </tr>\n",
              "  </thead>\n",
              "  <tbody>\n",
              "    <tr>\n",
              "      <th>496</th>\n",
              "      <td>2014-03-31</td>\n",
              "      <td>2014</td>\n",
              "      <td>4</td>\n",
              "      <td>17.85</td>\n",
              "      <td>2014-04-18</td>\n",
              "      <td>0.049</td>\n",
              "    </tr>\n",
              "    <tr>\n",
              "      <th>497</th>\n",
              "      <td>2014-03-31</td>\n",
              "      <td>2014</td>\n",
              "      <td>5</td>\n",
              "      <td>19.55</td>\n",
              "      <td>2014-05-16</td>\n",
              "      <td>0.126</td>\n",
              "    </tr>\n",
              "    <tr>\n",
              "      <th>498</th>\n",
              "      <td>2014-03-31</td>\n",
              "      <td>2014</td>\n",
              "      <td>6</td>\n",
              "      <td>19.95</td>\n",
              "      <td>2014-06-20</td>\n",
              "      <td>0.222</td>\n",
              "    </tr>\n",
              "    <tr>\n",
              "      <th>499</th>\n",
              "      <td>2014-03-31</td>\n",
              "      <td>2014</td>\n",
              "      <td>7</td>\n",
              "      <td>20.40</td>\n",
              "      <td>2014-07-18</td>\n",
              "      <td>0.299</td>\n",
              "    </tr>\n",
              "    <tr>\n",
              "      <th>500</th>\n",
              "      <td>2014-03-31</td>\n",
              "      <td>2014</td>\n",
              "      <td>8</td>\n",
              "      <td>20.70</td>\n",
              "      <td>2014-08-15</td>\n",
              "      <td>0.375</td>\n",
              "    </tr>\n",
              "  </tbody>\n",
              "</table>\n",
              "</div>\n",
              "      <button class=\"colab-df-convert\" onclick=\"convertToInteractive('df-8b11fb52-5fa4-4a5e-a5c1-dbde29f7ff9b')\"\n",
              "              title=\"Convert this dataframe to an interactive table.\"\n",
              "              style=\"display:none;\">\n",
              "        \n",
              "  <svg xmlns=\"http://www.w3.org/2000/svg\" height=\"24px\"viewBox=\"0 0 24 24\"\n",
              "       width=\"24px\">\n",
              "    <path d=\"M0 0h24v24H0V0z\" fill=\"none\"/>\n",
              "    <path d=\"M18.56 5.44l.94 2.06.94-2.06 2.06-.94-2.06-.94-.94-2.06-.94 2.06-2.06.94zm-11 1L8.5 8.5l.94-2.06 2.06-.94-2.06-.94L8.5 2.5l-.94 2.06-2.06.94zm10 10l.94 2.06.94-2.06 2.06-.94-2.06-.94-.94-2.06-.94 2.06-2.06.94z\"/><path d=\"M17.41 7.96l-1.37-1.37c-.4-.4-.92-.59-1.43-.59-.52 0-1.04.2-1.43.59L10.3 9.45l-7.72 7.72c-.78.78-.78 2.05 0 2.83L4 21.41c.39.39.9.59 1.41.59.51 0 1.02-.2 1.41-.59l7.78-7.78 2.81-2.81c.8-.78.8-2.07 0-2.86zM5.41 20L4 18.59l7.72-7.72 1.47 1.35L5.41 20z\"/>\n",
              "  </svg>\n",
              "      </button>\n",
              "      \n",
              "  <style>\n",
              "    .colab-df-container {\n",
              "      display:flex;\n",
              "      flex-wrap:wrap;\n",
              "      gap: 12px;\n",
              "    }\n",
              "\n",
              "    .colab-df-convert {\n",
              "      background-color: #E8F0FE;\n",
              "      border: none;\n",
              "      border-radius: 50%;\n",
              "      cursor: pointer;\n",
              "      display: none;\n",
              "      fill: #1967D2;\n",
              "      height: 32px;\n",
              "      padding: 0 0 0 0;\n",
              "      width: 32px;\n",
              "    }\n",
              "\n",
              "    .colab-df-convert:hover {\n",
              "      background-color: #E2EBFA;\n",
              "      box-shadow: 0px 1px 2px rgba(60, 64, 67, 0.3), 0px 1px 3px 1px rgba(60, 64, 67, 0.15);\n",
              "      fill: #174EA6;\n",
              "    }\n",
              "\n",
              "    [theme=dark] .colab-df-convert {\n",
              "      background-color: #3B4455;\n",
              "      fill: #D2E3FC;\n",
              "    }\n",
              "\n",
              "    [theme=dark] .colab-df-convert:hover {\n",
              "      background-color: #434B5C;\n",
              "      box-shadow: 0px 1px 3px 1px rgba(0, 0, 0, 0.15);\n",
              "      filter: drop-shadow(0px 1px 2px rgba(0, 0, 0, 0.3));\n",
              "      fill: #FFFFFF;\n",
              "    }\n",
              "  </style>\n",
              "\n",
              "      <script>\n",
              "        const buttonEl =\n",
              "          document.querySelector('#df-8b11fb52-5fa4-4a5e-a5c1-dbde29f7ff9b button.colab-df-convert');\n",
              "        buttonEl.style.display =\n",
              "          google.colab.kernel.accessAllowed ? 'block' : 'none';\n",
              "\n",
              "        async function convertToInteractive(key) {\n",
              "          const element = document.querySelector('#df-8b11fb52-5fa4-4a5e-a5c1-dbde29f7ff9b');\n",
              "          const dataTable =\n",
              "            await google.colab.kernel.invokeFunction('convertToInteractive',\n",
              "                                                     [key], {});\n",
              "          if (!dataTable) return;\n",
              "\n",
              "          const docLinkHtml = 'Like what you see? Visit the ' +\n",
              "            '<a target=\"_blank\" href=https://colab.research.google.com/notebooks/data_table.ipynb>data table notebook</a>'\n",
              "            + ' to learn more about interactive tables.';\n",
              "          element.innerHTML = '';\n",
              "          dataTable['output_type'] = 'display_data';\n",
              "          await google.colab.output.renderOutput(dataTable, element);\n",
              "          const docLink = document.createElement('div');\n",
              "          docLink.innerHTML = docLinkHtml;\n",
              "          element.appendChild(docLink);\n",
              "        }\n",
              "      </script>\n",
              "    </div>\n",
              "  </div>\n",
              "  "
            ],
            "text/plain": [
              "          DATE  EXP_YEAR  EXP_MONTH  PRICE   MATURITY    TTM\n",
              "496 2014-03-31      2014          4  17.85 2014-04-18  0.049\n",
              "497 2014-03-31      2014          5  19.55 2014-05-16  0.126\n",
              "498 2014-03-31      2014          6  19.95 2014-06-20  0.222\n",
              "499 2014-03-31      2014          7  20.40 2014-07-18  0.299\n",
              "500 2014-03-31      2014          8  20.70 2014-08-15  0.375"
            ]
          },
          "metadata": {},
          "execution_count": 9
        }
      ]
    },
    {
      "cell_type": "code",
      "execution_count": null,
      "metadata": {
        "uuid": "8d5c855d-87d0-4108-93c7-57094610bd68",
        "colab": {
          "base_uri": "https://localhost:8080/",
          "height": 300
        },
        "id": "1JVTq19rFhqY",
        "outputId": "e5879525-19fe-40bd-bc41-dfbd194d5426"
      },
      "outputs": [
        {
          "output_type": "execute_result",
          "data": {
            "text/html": [
              "\n",
              "  <div id=\"df-19196d8f-cedb-434b-ae11-aef9a5a16808\">\n",
              "    <div class=\"colab-df-container\">\n",
              "      <div>\n",
              "<style scoped>\n",
              "    .dataframe tbody tr th:only-of-type {\n",
              "        vertical-align: middle;\n",
              "    }\n",
              "\n",
              "    .dataframe tbody tr th {\n",
              "        vertical-align: top;\n",
              "    }\n",
              "\n",
              "    .dataframe thead th {\n",
              "        text-align: right;\n",
              "    }\n",
              "</style>\n",
              "<table border=\"1\" class=\"dataframe\">\n",
              "  <thead>\n",
              "    <tr style=\"text-align: right;\">\n",
              "      <th></th>\n",
              "      <th>DATE</th>\n",
              "      <th>EXP_YEAR</th>\n",
              "      <th>EXP_MONTH</th>\n",
              "      <th>PRICE</th>\n",
              "      <th>MATURITY</th>\n",
              "      <th>TTM</th>\n",
              "    </tr>\n",
              "  </thead>\n",
              "  <tbody>\n",
              "    <tr>\n",
              "      <th>496</th>\n",
              "      <td>2014-03-31</td>\n",
              "      <td>2014</td>\n",
              "      <td>4</td>\n",
              "      <td>17.85</td>\n",
              "      <td>2014-04-18</td>\n",
              "      <td>0.049</td>\n",
              "    </tr>\n",
              "    <tr>\n",
              "      <th>497</th>\n",
              "      <td>2014-03-31</td>\n",
              "      <td>2014</td>\n",
              "      <td>5</td>\n",
              "      <td>19.55</td>\n",
              "      <td>2014-05-16</td>\n",
              "      <td>0.126</td>\n",
              "    </tr>\n",
              "    <tr>\n",
              "      <th>498</th>\n",
              "      <td>2014-03-31</td>\n",
              "      <td>2014</td>\n",
              "      <td>6</td>\n",
              "      <td>19.95</td>\n",
              "      <td>2014-06-20</td>\n",
              "      <td>0.222</td>\n",
              "    </tr>\n",
              "    <tr>\n",
              "      <th>499</th>\n",
              "      <td>2014-03-31</td>\n",
              "      <td>2014</td>\n",
              "      <td>7</td>\n",
              "      <td>20.40</td>\n",
              "      <td>2014-07-18</td>\n",
              "      <td>0.299</td>\n",
              "    </tr>\n",
              "    <tr>\n",
              "      <th>500</th>\n",
              "      <td>2014-03-31</td>\n",
              "      <td>2014</td>\n",
              "      <td>8</td>\n",
              "      <td>20.70</td>\n",
              "      <td>2014-08-15</td>\n",
              "      <td>0.375</td>\n",
              "    </tr>\n",
              "    <tr>\n",
              "      <th>501</th>\n",
              "      <td>2014-03-31</td>\n",
              "      <td>2014</td>\n",
              "      <td>9</td>\n",
              "      <td>20.95</td>\n",
              "      <td>2014-09-19</td>\n",
              "      <td>0.471</td>\n",
              "    </tr>\n",
              "    <tr>\n",
              "      <th>502</th>\n",
              "      <td>2014-03-31</td>\n",
              "      <td>2014</td>\n",
              "      <td>10</td>\n",
              "      <td>21.05</td>\n",
              "      <td>2014-10-17</td>\n",
              "      <td>0.548</td>\n",
              "    </tr>\n",
              "    <tr>\n",
              "      <th>503</th>\n",
              "      <td>2014-03-31</td>\n",
              "      <td>2014</td>\n",
              "      <td>11</td>\n",
              "      <td>21.25</td>\n",
              "      <td>2014-11-21</td>\n",
              "      <td>0.644</td>\n",
              "    </tr>\n",
              "  </tbody>\n",
              "</table>\n",
              "</div>\n",
              "      <button class=\"colab-df-convert\" onclick=\"convertToInteractive('df-19196d8f-cedb-434b-ae11-aef9a5a16808')\"\n",
              "              title=\"Convert this dataframe to an interactive table.\"\n",
              "              style=\"display:none;\">\n",
              "        \n",
              "  <svg xmlns=\"http://www.w3.org/2000/svg\" height=\"24px\"viewBox=\"0 0 24 24\"\n",
              "       width=\"24px\">\n",
              "    <path d=\"M0 0h24v24H0V0z\" fill=\"none\"/>\n",
              "    <path d=\"M18.56 5.44l.94 2.06.94-2.06 2.06-.94-2.06-.94-.94-2.06-.94 2.06-2.06.94zm-11 1L8.5 8.5l.94-2.06 2.06-.94-2.06-.94L8.5 2.5l-.94 2.06-2.06.94zm10 10l.94 2.06.94-2.06 2.06-.94-2.06-.94-.94-2.06-.94 2.06-2.06.94z\"/><path d=\"M17.41 7.96l-1.37-1.37c-.4-.4-.92-.59-1.43-.59-.52 0-1.04.2-1.43.59L10.3 9.45l-7.72 7.72c-.78.78-.78 2.05 0 2.83L4 21.41c.39.39.9.59 1.41.59.51 0 1.02-.2 1.41-.59l7.78-7.78 2.81-2.81c.8-.78.8-2.07 0-2.86zM5.41 20L4 18.59l7.72-7.72 1.47 1.35L5.41 20z\"/>\n",
              "  </svg>\n",
              "      </button>\n",
              "      \n",
              "  <style>\n",
              "    .colab-df-container {\n",
              "      display:flex;\n",
              "      flex-wrap:wrap;\n",
              "      gap: 12px;\n",
              "    }\n",
              "\n",
              "    .colab-df-convert {\n",
              "      background-color: #E8F0FE;\n",
              "      border: none;\n",
              "      border-radius: 50%;\n",
              "      cursor: pointer;\n",
              "      display: none;\n",
              "      fill: #1967D2;\n",
              "      height: 32px;\n",
              "      padding: 0 0 0 0;\n",
              "      width: 32px;\n",
              "    }\n",
              "\n",
              "    .colab-df-convert:hover {\n",
              "      background-color: #E2EBFA;\n",
              "      box-shadow: 0px 1px 2px rgba(60, 64, 67, 0.3), 0px 1px 3px 1px rgba(60, 64, 67, 0.15);\n",
              "      fill: #174EA6;\n",
              "    }\n",
              "\n",
              "    [theme=dark] .colab-df-convert {\n",
              "      background-color: #3B4455;\n",
              "      fill: #D2E3FC;\n",
              "    }\n",
              "\n",
              "    [theme=dark] .colab-df-convert:hover {\n",
              "      background-color: #434B5C;\n",
              "      box-shadow: 0px 1px 3px 1px rgba(0, 0, 0, 0.15);\n",
              "      filter: drop-shadow(0px 1px 2px rgba(0, 0, 0, 0.3));\n",
              "      fill: #FFFFFF;\n",
              "    }\n",
              "  </style>\n",
              "\n",
              "      <script>\n",
              "        const buttonEl =\n",
              "          document.querySelector('#df-19196d8f-cedb-434b-ae11-aef9a5a16808 button.colab-df-convert');\n",
              "        buttonEl.style.display =\n",
              "          google.colab.kernel.accessAllowed ? 'block' : 'none';\n",
              "\n",
              "        async function convertToInteractive(key) {\n",
              "          const element = document.querySelector('#df-19196d8f-cedb-434b-ae11-aef9a5a16808');\n",
              "          const dataTable =\n",
              "            await google.colab.kernel.invokeFunction('convertToInteractive',\n",
              "                                                     [key], {});\n",
              "          if (!dataTable) return;\n",
              "\n",
              "          const docLinkHtml = 'Like what you see? Visit the ' +\n",
              "            '<a target=\"_blank\" href=https://colab.research.google.com/notebooks/data_table.ipynb>data table notebook</a>'\n",
              "            + ' to learn more about interactive tables.';\n",
              "          element.innerHTML = '';\n",
              "          dataTable['output_type'] = 'display_data';\n",
              "          await google.colab.output.renderOutput(dataTable, element);\n",
              "          const docLink = document.createElement('div');\n",
              "          docLink.innerHTML = docLinkHtml;\n",
              "          element.appendChild(docLink);\n",
              "        }\n",
              "      </script>\n",
              "    </div>\n",
              "  </div>\n",
              "  "
            ],
            "text/plain": [
              "          DATE  EXP_YEAR  EXP_MONTH  PRICE   MATURITY    TTM\n",
              "496 2014-03-31      2014          4  17.85 2014-04-18  0.049\n",
              "497 2014-03-31      2014          5  19.55 2014-05-16  0.126\n",
              "498 2014-03-31      2014          6  19.95 2014-06-20  0.222\n",
              "499 2014-03-31      2014          7  20.40 2014-07-18  0.299\n",
              "500 2014-03-31      2014          8  20.70 2014-08-15  0.375\n",
              "501 2014-03-31      2014          9  20.95 2014-09-19  0.471\n",
              "502 2014-03-31      2014         10  21.05 2014-10-17  0.548\n",
              "503 2014-03-31      2014         11  21.25 2014-11-21  0.644"
            ]
          },
          "metadata": {},
          "execution_count": 32
        }
      ],
      "source": [
        "futures_data"
      ]
    },
    {
      "cell_type": "code",
      "execution_count": null,
      "metadata": {
        "uuid": "48b29f70-8142-4960-8d4d-3a241685bc1d",
        "colab": {
          "base_uri": "https://localhost:8080/"
        },
        "id": "HeNBNyirFhqc",
        "outputId": "3dc8592f-aeba-40e2-c47b-62fcc7d3d49d"
      },
      "outputs": [
        {
          "output_type": "stream",
          "name": "stdout",
          "text": [
            "<class 'pandas.core.frame.DataFrame'>\n",
            "Int64Index: 395 entries, 46170 to 46564\n",
            "Data columns (total 8 columns):\n",
            " #   Column     Non-Null Count  Dtype         \n",
            "---  ------     --------------  -----         \n",
            " 0   DATE       395 non-null    datetime64[ns]\n",
            " 1   EXP_YEAR   395 non-null    int64         \n",
            " 2   EXP_MONTH  395 non-null    int64         \n",
            " 3   TYPE       395 non-null    object        \n",
            " 4   STRIKE     395 non-null    float64       \n",
            " 5   PRICE      395 non-null    float64       \n",
            " 6   MATURITY   395 non-null    datetime64[ns]\n",
            " 7   TTM        395 non-null    float64       \n",
            "dtypes: datetime64[ns](2), float64(3), int64(2), object(1)\n",
            "memory usage: 27.8+ KB\n"
          ]
        }
      ],
      "source": [
        "options_data.info()"
      ]
    },
    {
      "cell_type": "code",
      "execution_count": null,
      "metadata": {
        "uuid": "dead6085-55a7-46c1-9396-3ec0e247b8f4",
        "colab": {
          "base_uri": "https://localhost:8080/",
          "height": 206
        },
        "id": "7GTHocgtFhqc",
        "outputId": "b24b2a4e-d8a4-4eec-fde2-a9354a36a93a"
      },
      "outputs": [
        {
          "output_type": "execute_result",
          "data": {
            "text/html": [
              "\n",
              "  <div id=\"df-5f0b0613-bfd4-49c7-a7b0-3ffbcaf3ea52\">\n",
              "    <div class=\"colab-df-container\">\n",
              "      <div>\n",
              "<style scoped>\n",
              "    .dataframe tbody tr th:only-of-type {\n",
              "        vertical-align: middle;\n",
              "    }\n",
              "\n",
              "    .dataframe tbody tr th {\n",
              "        vertical-align: top;\n",
              "    }\n",
              "\n",
              "    .dataframe thead th {\n",
              "        text-align: right;\n",
              "    }\n",
              "</style>\n",
              "<table border=\"1\" class=\"dataframe\">\n",
              "  <thead>\n",
              "    <tr style=\"text-align: right;\">\n",
              "      <th></th>\n",
              "      <th>DATE</th>\n",
              "      <th>MATURITY</th>\n",
              "      <th>TTM</th>\n",
              "      <th>STRIKE</th>\n",
              "      <th>PRICE</th>\n",
              "    </tr>\n",
              "  </thead>\n",
              "  <tbody>\n",
              "    <tr>\n",
              "      <th>46170</th>\n",
              "      <td>2014-03-31</td>\n",
              "      <td>2014-04-18</td>\n",
              "      <td>0.049</td>\n",
              "      <td>1.0</td>\n",
              "      <td>16.85</td>\n",
              "    </tr>\n",
              "    <tr>\n",
              "      <th>46171</th>\n",
              "      <td>2014-03-31</td>\n",
              "      <td>2014-04-18</td>\n",
              "      <td>0.049</td>\n",
              "      <td>2.0</td>\n",
              "      <td>15.85</td>\n",
              "    </tr>\n",
              "    <tr>\n",
              "      <th>46172</th>\n",
              "      <td>2014-03-31</td>\n",
              "      <td>2014-04-18</td>\n",
              "      <td>0.049</td>\n",
              "      <td>3.0</td>\n",
              "      <td>14.85</td>\n",
              "    </tr>\n",
              "    <tr>\n",
              "      <th>46173</th>\n",
              "      <td>2014-03-31</td>\n",
              "      <td>2014-04-18</td>\n",
              "      <td>0.049</td>\n",
              "      <td>4.0</td>\n",
              "      <td>13.85</td>\n",
              "    </tr>\n",
              "    <tr>\n",
              "      <th>46174</th>\n",
              "      <td>2014-03-31</td>\n",
              "      <td>2014-04-18</td>\n",
              "      <td>0.049</td>\n",
              "      <td>5.0</td>\n",
              "      <td>12.85</td>\n",
              "    </tr>\n",
              "  </tbody>\n",
              "</table>\n",
              "</div>\n",
              "      <button class=\"colab-df-convert\" onclick=\"convertToInteractive('df-5f0b0613-bfd4-49c7-a7b0-3ffbcaf3ea52')\"\n",
              "              title=\"Convert this dataframe to an interactive table.\"\n",
              "              style=\"display:none;\">\n",
              "        \n",
              "  <svg xmlns=\"http://www.w3.org/2000/svg\" height=\"24px\"viewBox=\"0 0 24 24\"\n",
              "       width=\"24px\">\n",
              "    <path d=\"M0 0h24v24H0V0z\" fill=\"none\"/>\n",
              "    <path d=\"M18.56 5.44l.94 2.06.94-2.06 2.06-.94-2.06-.94-.94-2.06-.94 2.06-2.06.94zm-11 1L8.5 8.5l.94-2.06 2.06-.94-2.06-.94L8.5 2.5l-.94 2.06-2.06.94zm10 10l.94 2.06.94-2.06 2.06-.94-2.06-.94-.94-2.06-.94 2.06-2.06.94z\"/><path d=\"M17.41 7.96l-1.37-1.37c-.4-.4-.92-.59-1.43-.59-.52 0-1.04.2-1.43.59L10.3 9.45l-7.72 7.72c-.78.78-.78 2.05 0 2.83L4 21.41c.39.39.9.59 1.41.59.51 0 1.02-.2 1.41-.59l7.78-7.78 2.81-2.81c.8-.78.8-2.07 0-2.86zM5.41 20L4 18.59l7.72-7.72 1.47 1.35L5.41 20z\"/>\n",
              "  </svg>\n",
              "      </button>\n",
              "      \n",
              "  <style>\n",
              "    .colab-df-container {\n",
              "      display:flex;\n",
              "      flex-wrap:wrap;\n",
              "      gap: 12px;\n",
              "    }\n",
              "\n",
              "    .colab-df-convert {\n",
              "      background-color: #E8F0FE;\n",
              "      border: none;\n",
              "      border-radius: 50%;\n",
              "      cursor: pointer;\n",
              "      display: none;\n",
              "      fill: #1967D2;\n",
              "      height: 32px;\n",
              "      padding: 0 0 0 0;\n",
              "      width: 32px;\n",
              "    }\n",
              "\n",
              "    .colab-df-convert:hover {\n",
              "      background-color: #E2EBFA;\n",
              "      box-shadow: 0px 1px 2px rgba(60, 64, 67, 0.3), 0px 1px 3px 1px rgba(60, 64, 67, 0.15);\n",
              "      fill: #174EA6;\n",
              "    }\n",
              "\n",
              "    [theme=dark] .colab-df-convert {\n",
              "      background-color: #3B4455;\n",
              "      fill: #D2E3FC;\n",
              "    }\n",
              "\n",
              "    [theme=dark] .colab-df-convert:hover {\n",
              "      background-color: #434B5C;\n",
              "      box-shadow: 0px 1px 3px 1px rgba(0, 0, 0, 0.15);\n",
              "      filter: drop-shadow(0px 1px 2px rgba(0, 0, 0, 0.3));\n",
              "      fill: #FFFFFF;\n",
              "    }\n",
              "  </style>\n",
              "\n",
              "      <script>\n",
              "        const buttonEl =\n",
              "          document.querySelector('#df-5f0b0613-bfd4-49c7-a7b0-3ffbcaf3ea52 button.colab-df-convert');\n",
              "        buttonEl.style.display =\n",
              "          google.colab.kernel.accessAllowed ? 'block' : 'none';\n",
              "\n",
              "        async function convertToInteractive(key) {\n",
              "          const element = document.querySelector('#df-5f0b0613-bfd4-49c7-a7b0-3ffbcaf3ea52');\n",
              "          const dataTable =\n",
              "            await google.colab.kernel.invokeFunction('convertToInteractive',\n",
              "                                                     [key], {});\n",
              "          if (!dataTable) return;\n",
              "\n",
              "          const docLinkHtml = 'Like what you see? Visit the ' +\n",
              "            '<a target=\"_blank\" href=https://colab.research.google.com/notebooks/data_table.ipynb>data table notebook</a>'\n",
              "            + ' to learn more about interactive tables.';\n",
              "          element.innerHTML = '';\n",
              "          dataTable['output_type'] = 'display_data';\n",
              "          await google.colab.output.renderOutput(dataTable, element);\n",
              "          const docLink = document.createElement('div');\n",
              "          docLink.innerHTML = docLinkHtml;\n",
              "          element.appendChild(docLink);\n",
              "        }\n",
              "      </script>\n",
              "    </div>\n",
              "  </div>\n",
              "  "
            ],
            "text/plain": [
              "            DATE   MATURITY    TTM  STRIKE  PRICE\n",
              "46170 2014-03-31 2014-04-18  0.049     1.0  16.85\n",
              "46171 2014-03-31 2014-04-18  0.049     2.0  15.85\n",
              "46172 2014-03-31 2014-04-18  0.049     3.0  14.85\n",
              "46173 2014-03-31 2014-04-18  0.049     4.0  13.85\n",
              "46174 2014-03-31 2014-04-18  0.049     5.0  12.85"
            ]
          },
          "metadata": {},
          "execution_count": 11
        }
      ],
      "source": [
        "options_data[['DATE', 'MATURITY', 'TTM', 'STRIKE', 'PRICE']].head()"
      ]
    },
    {
      "cell_type": "code",
      "execution_count": null,
      "metadata": {
        "uuid": "808a0269-42d5-43ed-b753-28abb46820de",
        "id": "eSbrqSZiFhqd"
      },
      "outputs": [],
      "source": [
        "options_data['IMP_VOL'] = 0.0\n",
        "  # new column for implied volatilities"
      ]
    },
    {
      "cell_type": "code",
      "execution_count": null,
      "metadata": {
        "uuid": "8da4e671-cbbc-44fd-8050-c8fe300a4501",
        "id": "3y8am0WiFhqf"
      },
      "outputs": [],
      "source": [
        "tol = 0.5  # tolerance level for moneyness\n",
        "for option in options_data.index:\n",
        "    # iterating over all option quotes\n",
        "    forward = futures_data[futures_data['MATURITY'] == \\\n",
        "                options_data.loc[option]['MATURITY']]['PRICE'].values[0]\n",
        "      # picking the right futures value\n",
        "    if (forward * (1 - tol) < options_data.loc[option]['STRIKE']\n",
        "                             < forward * (1 + tol)):\n",
        "        # only for options with moneyness within tolerance\n",
        "        imp_vol = bsm_call_imp_vol(\n",
        "                V0,  # VSTOXX value \n",
        "                options_data.loc[option]['STRIKE'],\n",
        "                options_data.loc[option]['TTM'],\n",
        "                r,   # risk free rate\n",
        "                options_data.loc[option]['PRICE'],\n",
        "                sigma_est=2.,  # estimate for implied volatility to start Newton\n",
        "                it=100 )        # number of iteration\n",
        "        options_data.loc[option, 'IMP_VOL'] = imp_vol"
      ]
    },
    {
      "cell_type": "code",
      "execution_count": null,
      "metadata": {
        "uuid": "94491814-c0c6-4565-b1f7-cedb1af12c48",
        "colab": {
          "base_uri": "https://localhost:8080/"
        },
        "id": "YjF0x8CYFhqg",
        "outputId": "3826ea06-a07b-4254-ec3b-54936190bcae"
      },
      "outputs": [
        {
          "output_type": "execute_result",
          "data": {
            "text/plain": [
              "496   2014-04-18\n",
              "497   2014-05-16\n",
              "498   2014-06-20\n",
              "499   2014-07-18\n",
              "500   2014-08-15\n",
              "501   2014-09-19\n",
              "502   2014-10-17\n",
              "503   2014-11-21\n",
              "Name: MATURITY, dtype: datetime64[ns]"
            ]
          },
          "metadata": {},
          "execution_count": 15
        }
      ],
      "source": [
        "futures_data['MATURITY']\n",
        "  # select the column with name MATURITY"
      ]
    },
    {
      "cell_type": "code",
      "execution_count": null,
      "metadata": {
        "uuid": "cbb44f1e-2ab5-4d8f-976a-2d36515eef12",
        "colab": {
          "base_uri": "https://localhost:8080/"
        },
        "id": "7HQF1G8kFhqh",
        "outputId": "6c199dda-c0bc-4860-a743-96ed049d5e54"
      },
      "outputs": [
        {
          "output_type": "execute_result",
          "data": {
            "text/plain": [
              "DATE         2014-03-31 00:00:00\n",
              "EXP_YEAR                    2014\n",
              "EXP_MONTH                      4\n",
              "TYPE                           C\n",
              "STRIKE                       1.0\n",
              "PRICE                      16.85\n",
              "MATURITY     2014-04-18 00:00:00\n",
              "TTM                        0.049\n",
              "IMP_VOL                      0.0\n",
              "Name: 46170, dtype: object"
            ]
          },
          "metadata": {},
          "execution_count": 16
        }
      ],
      "source": [
        "options_data.loc[46170]\n",
        "  # select data row for index 46170"
      ]
    },
    {
      "cell_type": "code",
      "execution_count": null,
      "metadata": {
        "uuid": "e267720a-901b-42fd-86eb-f31c29ebc166",
        "colab": {
          "base_uri": "https://localhost:8080/"
        },
        "id": "zG9oieERFhqi",
        "outputId": "9103d6e2-87fe-4263-ca48-eadf452bbf3e"
      },
      "outputs": [
        {
          "output_type": "execute_result",
          "data": {
            "text/plain": [
              "1.0"
            ]
          },
          "metadata": {},
          "execution_count": 17
        }
      ],
      "source": [
        "options_data.loc[46170]['STRIKE']\n",
        "  # select only the value in column STRIKE\n",
        "  # for index 46170 "
      ]
    },
    {
      "cell_type": "code",
      "execution_count": null,
      "metadata": {
        "uuid": "03092953-5496-4500-9cf5-e3cbcf46d396",
        "id": "tPEIB7GsFhqi"
      },
      "outputs": [],
      "source": [
        "plot_data = options_data[options_data['IMP_VOL'] > 0]"
      ]
    },
    {
      "cell_type": "code",
      "execution_count": null,
      "metadata": {
        "uuid": "738b9618-b3a9-434f-a685-441a0c837b76",
        "colab": {
          "base_uri": "https://localhost:8080/"
        },
        "id": "fCMSsGy_Fhqj",
        "outputId": "ce02e670-8d4d-4534-d617-1630f94c96a6"
      },
      "outputs": [
        {
          "output_type": "execute_result",
          "data": {
            "text/plain": [
              "[Timestamp('2014-04-18 00:00:00'),\n",
              " Timestamp('2014-05-16 00:00:00'),\n",
              " Timestamp('2014-06-20 00:00:00'),\n",
              " Timestamp('2014-07-18 00:00:00'),\n",
              " Timestamp('2014-08-15 00:00:00'),\n",
              " Timestamp('2014-09-19 00:00:00'),\n",
              " Timestamp('2014-10-17 00:00:00'),\n",
              " Timestamp('2014-11-21 00:00:00')]"
            ]
          },
          "metadata": {},
          "execution_count": 19
        }
      ],
      "source": [
        "maturities = sorted(set(options_data['MATURITY']))\n",
        "maturities"
      ]
    },
    {
      "cell_type": "code",
      "execution_count": null,
      "metadata": {
        "uuid": "8886807a-ca71-48d0-b5ef-ab7cb9470548",
        "colab": {
          "base_uri": "https://localhost:8080/",
          "height": 386
        },
        "id": "rWHmUMjLFhqk",
        "outputId": "7323171e-9a21-4ab5-8250-c701996eb103"
      },
      "outputs": [
        {
          "output_type": "display_data",
          "data": {
            "image/png": "[encoded data removed]",
            "text/plain": [
              "<Figure size 576x432 with 1 Axes>"
            ]
          },
          "metadata": {
            "needs_background": "light"
          }
        }
      ],
      "source": [
        "import matplotlib.pyplot as plt\n",
        "%matplotlib inline\n",
        "plt.figure(figsize=(8, 6))\n",
        "for maturity in maturities:\n",
        "    data = plot_data[options_data.MATURITY == maturity]\n",
        "      # select data for this maturity\n",
        "    plt.plot(data['STRIKE'], data['IMP_VOL'],\n",
        "             label=maturity.date(), lw=1.5)\n",
        "    plt.plot(data['STRIKE'], data['IMP_VOL'], 'r.', label='')\n",
        "plt.grid(True) \n",
        "plt.xlabel('strike')\n",
        "plt.ylabel('implied volatility of volatility')\n",
        "plt.legend()\n",
        "plt.show()\n",
        "#plt.title('Implied volatilities (of volatility) for European call options on the VSTOXX on 31. March 2014')\n",
        "# tag: vs_imp_vol"
      ]
    }
  ],
  "metadata": {
    "anaconda-cloud": {},
    "kernelspec": {
      "display_name": "Python 3",
      "language": "python",
      "name": "python3"
    },
    "language_info": {
      "codemirror_mode": {
        "name": "ipython",
        "version": 3
      },
      "file_extension": ".py",
      "mimetype": "text/x-python",
      "name": "python",
      "nbconvert_exporter": "python",
      "pygments_lexer": "ipython3",
      "version": "3.6.3"
    },
    "colab": {
      "name": "Lecture10_Calculating_Implied_Volatilities.ipynb",
      "provenance": []
    }
  },
  "nbformat": 4,
  "nbformat_minor": 0
}